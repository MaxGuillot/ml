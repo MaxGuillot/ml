{
 "cells": [
  {
   "cell_type": "markdown",
   "metadata": {
    "toc": true
   },
   "source": [
    "<h1>Table of Contents<span class=\"tocSkip\"></span></h1>\n",
    "<div class=\"toc\" style=\"margin-top: 1em;\"><ul class=\"toc-item\"><li><span><a href=\"#Présentation\" data-toc-modified-id=\"Présentation-1\"><span class=\"toc-item-num\">1&nbsp;&nbsp;</span>Présentation</a></span><ul class=\"toc-item\"><li><span><a href=\"#Imports\" data-toc-modified-id=\"Imports-1.1\"><span class=\"toc-item-num\">1.1&nbsp;&nbsp;</span>Imports</a></span></li><li><span><a href=\"#Import-des-données\" data-toc-modified-id=\"Import-des-données-1.2\"><span class=\"toc-item-num\">1.2&nbsp;&nbsp;</span>Import des données</a></span></li><li><span><a href=\"#Observations-préliminaires\" data-toc-modified-id=\"Observations-préliminaires-1.3\"><span class=\"toc-item-num\">1.3&nbsp;&nbsp;</span>Observations préliminaires</a></span></li></ul></li><li><span><a href=\"#Exploration-des-données\" data-toc-modified-id=\"Exploration-des-données-2\"><span class=\"toc-item-num\">2&nbsp;&nbsp;</span>Exploration des données</a></span><ul class=\"toc-item\"><li><span><a href=\"#La-cible\" data-toc-modified-id=\"La-cible-2.1\"><span class=\"toc-item-num\">2.1&nbsp;&nbsp;</span>La cible</a></span></li><li><span><a href=\"#Le-temps-:-pertinent-ou-non-?\" data-toc-modified-id=\"Le-temps-:-pertinent-ou-non-?-2.2\"><span class=\"toc-item-num\">2.2&nbsp;&nbsp;</span>Le temps : pertinent ou non ?</a></span><ul class=\"toc-item\"><li><span><a href=\"#Mensuel\" data-toc-modified-id=\"Mensuel-2.2.1\"><span class=\"toc-item-num\">2.2.1&nbsp;&nbsp;</span>Mensuel</a></span></li><li><span><a href=\"#Hebdomadaire\" data-toc-modified-id=\"Hebdomadaire-2.2.2\"><span class=\"toc-item-num\">2.2.2&nbsp;&nbsp;</span>Hebdomadaire</a></span></li><li><span><a href=\"#Au-jour-le-jour\" data-toc-modified-id=\"Au-jour-le-jour-2.2.3\"><span class=\"toc-item-num\">2.2.3&nbsp;&nbsp;</span>Au jour le jour</a></span></li><li><span><a href=\"#Et-l'heure-?\" data-toc-modified-id=\"Et-l'heure-?-2.2.4\"><span class=\"toc-item-num\">2.2.4&nbsp;&nbsp;</span>Et l'heure ?</a></span></li><li><span><a href=\"#Le-temps-d'une-conclusion\" data-toc-modified-id=\"Le-temps-d'une-conclusion-2.2.5\"><span class=\"toc-item-num\">2.2.5&nbsp;&nbsp;</span>Le temps d'une conclusion</a></span></li></ul></li><li><span><a href=\"#Impact-des-donnée-catégorielles\" data-toc-modified-id=\"Impact-des-donnée-catégorielles-2.3\"><span class=\"toc-item-num\">2.3&nbsp;&nbsp;</span>Impact des donnée catégorielles</a></span><ul class=\"toc-item\"><li><span><a href=\"#season\" data-toc-modified-id=\"season-2.3.1\"><span class=\"toc-item-num\">2.3.1&nbsp;&nbsp;</span>season</a></span></li><li><span><a href=\"#holiday\" data-toc-modified-id=\"holiday-2.3.2\"><span class=\"toc-item-num\">2.3.2&nbsp;&nbsp;</span>holiday</a></span></li><li><span><a href=\"#workingday\" data-toc-modified-id=\"workingday-2.3.3\"><span class=\"toc-item-num\">2.3.3&nbsp;&nbsp;</span>workingday</a></span></li><li><span><a href=\"#weather\" data-toc-modified-id=\"weather-2.3.4\"><span class=\"toc-item-num\">2.3.4&nbsp;&nbsp;</span>weather</a></span></li></ul></li><li><span><a href=\"#Impact-des-données-continues\" data-toc-modified-id=\"Impact-des-données-continues-2.4\"><span class=\"toc-item-num\">2.4&nbsp;&nbsp;</span>Impact des données continues</a></span><ul class=\"toc-item\"><li><span><a href=\"#Les-températures\" data-toc-modified-id=\"Les-températures-2.4.1\"><span class=\"toc-item-num\">2.4.1&nbsp;&nbsp;</span>Les températures</a></span></li><li><span><a href=\"#L'humidité\" data-toc-modified-id=\"L'humidité-2.4.2\"><span class=\"toc-item-num\">2.4.2&nbsp;&nbsp;</span>L'humidité</a></span></li><li><span><a href=\"#Vitesse-du-vent\" data-toc-modified-id=\"Vitesse-du-vent-2.4.3\"><span class=\"toc-item-num\">2.4.3&nbsp;&nbsp;</span>Vitesse du vent</a></span></li></ul></li></ul></li><li><span><a href=\"#Modélisation\" data-toc-modified-id=\"Modélisation-3\"><span class=\"toc-item-num\">3&nbsp;&nbsp;</span>Modélisation</a></span><ul class=\"toc-item\"><li><span><a href=\"#Préparation\" data-toc-modified-id=\"Préparation-3.1\"><span class=\"toc-item-num\">3.1&nbsp;&nbsp;</span>Préparation</a></span></li><li><span><a href=\"#Arbre-de-décision\" data-toc-modified-id=\"Arbre-de-décision-3.2\"><span class=\"toc-item-num\">3.2&nbsp;&nbsp;</span>Arbre de décision</a></span></li><li><span><a href=\"#Régression-linéaire\" data-toc-modified-id=\"Régression-linéaire-3.3\"><span class=\"toc-item-num\">3.3&nbsp;&nbsp;</span>Régression linéaire</a></span></li><li><span><a href=\"#RandomForest\" data-toc-modified-id=\"RandomForest-3.4\"><span class=\"toc-item-num\">3.4&nbsp;&nbsp;</span>RandomForest</a></span></li></ul></li><li><span><a href=\"#Conclusion\" data-toc-modified-id=\"Conclusion-4\"><span class=\"toc-item-num\">4&nbsp;&nbsp;</span>Conclusion</a></span></li><li><span><a href=\"#Améliorations-possibles\" data-toc-modified-id=\"Améliorations-possibles-5\"><span class=\"toc-item-num\">5&nbsp;&nbsp;</span>Améliorations possibles</a></span></li></ul></div>"
   ]
  },
  {
   "cell_type": "markdown",
   "metadata": {},
   "source": [
    "# Présentation\n",
    "Le présent notebook vise à explorer un ensemble de données léger dans le but de __prédire le nombre de vélos utilisés__. En effet, pour une société de location de vélos, avoir une visibilité sur le sujet est précieux.\n",
    "![Une vision du mobilier urbain](img/velo.jpg \"Copyright Tef\")\n",
    "\n",
    "Pour ce faire, nous disposons des outils traditionnels de l'apprentissage automatique présents dans la bibliothèque _sickit-learn_."
   ]
  },
  {
   "cell_type": "markdown",
   "metadata": {},
   "source": [
    "## Imports\n",
    "Les imports usuels pour un projet d'apprentissage automatique :\n",
    "* pandas pour la manipulation d'ensemble de données ;\n",
    "* numpy dans le doute, et plus précisément les fonctions mathématiques qu'elles implémentent ;\n",
    "* sklearn sera chargé au cas par cas ;\n",
    "* seaborn pour l'affichage de graphiques élégants ;\n",
    "* matplotlib pour l'affichage de graphiques ;"
   ]
  },
  {
   "cell_type": "code",
   "execution_count": 1,
   "metadata": {
    "collapsed": true
   },
   "outputs": [],
   "source": [
    "import pandas as pd\n",
    "import numpy as np\n",
    "import matplotlib.pyplot as plt\n",
    "import seaborn as sns\n",
    "%matplotlib inline"
   ]
  },
  {
   "cell_type": "markdown",
   "metadata": {},
   "source": [
    "## Import des données"
   ]
  },
  {
   "cell_type": "code",
   "execution_count": 2,
   "metadata": {
    "scrolled": true
   },
   "outputs": [
    {
     "name": "stdout",
     "output_type": "stream",
     "text": [
      "              datetime  season  holiday  workingday  weather  temp   atemp  \\\n",
      "0  2011-01-01 00:00:00       1        0           0        1  9.84  14.395   \n",
      "1  2011-01-01 01:00:00       1        0           0        1  9.02  13.635   \n",
      "2  2011-01-01 02:00:00       1        0           0        1  9.02  13.635   \n",
      "3  2011-01-01 03:00:00       1        0           0        1  9.84  14.395   \n",
      "4  2011-01-01 04:00:00       1        0           0        1  9.84  14.395   \n",
      "\n",
      "   humidity  windspeed  casual  registered  count  \n",
      "0        81        0.0       3          13     16  \n",
      "1        80        0.0       8          32     40  \n",
      "2        80        0.0       5          27     32  \n",
      "3        75        0.0       3          10     13  \n",
      "4        75        0.0       0           1      1  \n"
     ]
    },
    {
     "data": {
      "text/plain": [
       "(10886, 12)"
      ]
     },
     "execution_count": 2,
     "metadata": {},
     "output_type": "execute_result"
    }
   ],
   "source": [
    "df = pd.read_csv(\"data/velo.csv\")\n",
    "print(df.head())\n",
    "df.shape"
   ]
  },
  {
   "cell_type": "markdown",
   "metadata": {},
   "source": [
    "## Observations préliminaires\n",
    "Sur les douze variables présentes, sachant que __count__ est la variable cible, l'intuition selon laquelle __count = casual + regular__ est forte. Vérifions-la :"
   ]
  },
  {
   "cell_type": "code",
   "execution_count": 3,
   "metadata": {},
   "outputs": [
    {
     "data": {
      "text/plain": [
       "0"
      ]
     },
     "execution_count": 3,
     "metadata": {},
     "output_type": "execute_result"
    }
   ],
   "source": [
    "somm = df.casual + df.registered\n",
    "np.sum(np.where(somm!=df.count,[0],[1]))"
   ]
  },
  {
   "cell_type": "markdown",
   "metadata": {},
   "source": [
    "L'intuition est donc vérifiée, afin d'éviter des fuites de données, il faudra se défaire des colonnes __casual__ et __registered__."
   ]
  },
  {
   "cell_type": "code",
   "execution_count": 4,
   "metadata": {
    "collapsed": true
   },
   "outputs": [],
   "source": [
    "df = df.drop(['casual', 'registered'],axis=1)\n",
    "somm = []"
   ]
  },
  {
   "cell_type": "markdown",
   "metadata": {},
   "source": [
    "La question est maintenant de savoir s'il existe des données catégoriques ou d'autres encore continues. La fonction ci-dessous permet de répondre à la question sans utiliser la fonction de pandas :"
   ]
  },
  {
   "cell_type": "code",
   "execution_count": 5,
   "metadata": {},
   "outputs": [
    {
     "name": "stdout",
     "output_type": "stream",
     "text": [
      "datetime 10886\n",
      "season 4\n",
      "holiday 2\n",
      "workingday 2\n",
      "weather 4\n",
      "temp 49\n",
      "atemp 60\n",
      "humidity 89\n",
      "windspeed 28\n",
      "count 822\n"
     ]
    }
   ],
   "source": [
    "# Compte les éléments uniques\n",
    "# df pandas dataframe\n",
    "def dfUn(df) :\n",
    "    for x in range(df.shape[1]):\n",
    "         print(str(list(df)[x]) + \" \"+ str(df.iloc[:,x].unique().shape[0]))\n",
    "dfUn(df)"
   ]
  },
  {
   "cell_type": "markdown",
   "metadata": {},
   "source": [
    "Il semblerait raisonnable de retenir les colonnes __season, holiday, workingday__et __weather__ comme des catégories. Il serait intéressant de voir quelles valeurs elles prennent."
   ]
  },
  {
   "cell_type": "code",
   "execution_count": 6,
   "metadata": {},
   "outputs": [
    {
     "name": "stdout",
     "output_type": "stream",
     "text": [
      "season : [1 2 3 4]\n",
      "holiday : [0 1]\n",
      "workingday : [0 1]\n",
      "weather : [1 2 3 4]\n"
     ]
    }
   ],
   "source": [
    "# Affiche les valeurs des données catégoriques\n",
    "# et les stocke comme telles\n",
    "# df pandas dataframe\n",
    "# lc liste de noms de colonnes\n",
    "def afCatUn(df,lc):\n",
    "    for x in lc:\n",
    "        print(str(x) + \" : \" + str(df[x].unique()))\n",
    "        df[x] = pd.Categorical(df[x],ordered=False)\n",
    "        \n",
    "afCatUn(df,[\"season\",\"holiday\",\"workingday\",\"weather\"])"
   ]
  },
  {
   "cell_type": "markdown",
   "metadata": {},
   "source": [
    "Cela fait, existe-t-il des données nulles ?"
   ]
  },
  {
   "cell_type": "code",
   "execution_count": 7,
   "metadata": {},
   "outputs": [
    {
     "data": {
      "text/plain": [
       "datetime      0\n",
       "season        0\n",
       "holiday       0\n",
       "workingday    0\n",
       "weather       0\n",
       "temp          0\n",
       "atemp         0\n",
       "humidity      0\n",
       "windspeed     0\n",
       "count         0\n",
       "dtype: int64"
      ]
     },
     "execution_count": 7,
     "metadata": {},
     "output_type": "execute_result"
    }
   ],
   "source": [
    "# Nombre de valeurs manquantes par variable\n",
    "df.isnull().sum()"
   ]
  },
  {
   "cell_type": "markdown",
   "metadata": {},
   "source": [
    "Ce cas de figure est assez exceptionnel (l'absence de valeurs nulles), mais il serait dommage de ne pas en profiter. Voyons ce qu'il en est des variables continues :"
   ]
  },
  {
   "cell_type": "code",
   "execution_count": 8,
   "metadata": {},
   "outputs": [
    {
     "data": {
      "text/html": [
       "<div>\n",
       "<style>\n",
       "    .dataframe thead tr:only-child th {\n",
       "        text-align: right;\n",
       "    }\n",
       "\n",
       "    .dataframe thead th {\n",
       "        text-align: left;\n",
       "    }\n",
       "\n",
       "    .dataframe tbody tr th {\n",
       "        vertical-align: top;\n",
       "    }\n",
       "</style>\n",
       "<table border=\"1\" class=\"dataframe\">\n",
       "  <thead>\n",
       "    <tr style=\"text-align: right;\">\n",
       "      <th></th>\n",
       "      <th>temp</th>\n",
       "      <th>atemp</th>\n",
       "      <th>humidity</th>\n",
       "      <th>windspeed</th>\n",
       "      <th>count</th>\n",
       "    </tr>\n",
       "  </thead>\n",
       "  <tbody>\n",
       "    <tr>\n",
       "      <th>count</th>\n",
       "      <td>10886.00000</td>\n",
       "      <td>10886.000000</td>\n",
       "      <td>10886.000000</td>\n",
       "      <td>10886.000000</td>\n",
       "      <td>10886.000000</td>\n",
       "    </tr>\n",
       "    <tr>\n",
       "      <th>mean</th>\n",
       "      <td>20.23086</td>\n",
       "      <td>23.655084</td>\n",
       "      <td>61.886460</td>\n",
       "      <td>12.799395</td>\n",
       "      <td>191.574132</td>\n",
       "    </tr>\n",
       "    <tr>\n",
       "      <th>std</th>\n",
       "      <td>7.79159</td>\n",
       "      <td>8.474601</td>\n",
       "      <td>19.245033</td>\n",
       "      <td>8.164537</td>\n",
       "      <td>181.144454</td>\n",
       "    </tr>\n",
       "    <tr>\n",
       "      <th>min</th>\n",
       "      <td>0.82000</td>\n",
       "      <td>0.760000</td>\n",
       "      <td>0.000000</td>\n",
       "      <td>0.000000</td>\n",
       "      <td>1.000000</td>\n",
       "    </tr>\n",
       "    <tr>\n",
       "      <th>25%</th>\n",
       "      <td>13.94000</td>\n",
       "      <td>16.665000</td>\n",
       "      <td>47.000000</td>\n",
       "      <td>7.001500</td>\n",
       "      <td>42.000000</td>\n",
       "    </tr>\n",
       "    <tr>\n",
       "      <th>50%</th>\n",
       "      <td>20.50000</td>\n",
       "      <td>24.240000</td>\n",
       "      <td>62.000000</td>\n",
       "      <td>12.998000</td>\n",
       "      <td>145.000000</td>\n",
       "    </tr>\n",
       "    <tr>\n",
       "      <th>75%</th>\n",
       "      <td>26.24000</td>\n",
       "      <td>31.060000</td>\n",
       "      <td>77.000000</td>\n",
       "      <td>16.997900</td>\n",
       "      <td>284.000000</td>\n",
       "    </tr>\n",
       "    <tr>\n",
       "      <th>max</th>\n",
       "      <td>41.00000</td>\n",
       "      <td>45.455000</td>\n",
       "      <td>100.000000</td>\n",
       "      <td>56.996900</td>\n",
       "      <td>977.000000</td>\n",
       "    </tr>\n",
       "  </tbody>\n",
       "</table>\n",
       "</div>"
      ],
      "text/plain": [
       "              temp         atemp      humidity     windspeed         count\n",
       "count  10886.00000  10886.000000  10886.000000  10886.000000  10886.000000\n",
       "mean      20.23086     23.655084     61.886460     12.799395    191.574132\n",
       "std        7.79159      8.474601     19.245033      8.164537    181.144454\n",
       "min        0.82000      0.760000      0.000000      0.000000      1.000000\n",
       "25%       13.94000     16.665000     47.000000      7.001500     42.000000\n",
       "50%       20.50000     24.240000     62.000000     12.998000    145.000000\n",
       "75%       26.24000     31.060000     77.000000     16.997900    284.000000\n",
       "max       41.00000     45.455000    100.000000     56.996900    977.000000"
      ]
     },
     "execution_count": 8,
     "metadata": {},
     "output_type": "execute_result"
    }
   ],
   "source": [
    "df.describe()"
   ]
  },
  {
   "cell_type": "markdown",
   "metadata": {},
   "source": [
    "# Exploration des données\n",
    "## La cible"
   ]
  },
  {
   "cell_type": "markdown",
   "metadata": {},
   "source": [
    "Une variable continue se prête bien à une visualisation en histogramme, aussi :"
   ]
  },
  {
   "cell_type": "code",
   "execution_count": 9,
   "metadata": {},
   "outputs": [
    {
     "data": {
      "image/png": "[encoded data removed]",
      "text/plain": [
       "<matplotlib.figure.Figure at 0x2440ba8c240>"
      ]
     },
     "metadata": {},
     "output_type": "display_data"
    }
   ],
   "source": [
    "df[\"count\"].plot(kind='hist')\n",
    "plt.show()"
   ]
  },
  {
   "cell_type": "code",
   "execution_count": 10,
   "metadata": {},
   "outputs": [
    {
     "data": {
      "image/png": "[encoded data removed]",
      "text/plain": [
       "<matplotlib.figure.Figure at 0x2440bc15550>"
      ]
     },
     "metadata": {},
     "output_type": "display_data"
    }
   ],
   "source": [
    "df[\"logcount\"] = np.log(df[\"count\"])\n",
    "df.logcount.plot(kind = \"hist\")\n",
    "plt.show()"
   ]
  },
  {
   "cell_type": "markdown",
   "metadata": {},
   "source": [
    "Le donnée cible suit une distribution exponentielle décroissante, cependant le traitement logarithmique n'embellit pas tant que cela __count__.\n"
   ]
  },
  {
   "cell_type": "code",
   "execution_count": 11,
   "metadata": {
    "collapsed": true
   },
   "outputs": [],
   "source": [
    "df = df.drop(['logcount'],axis = 1)"
   ]
  },
  {
   "cell_type": "markdown",
   "metadata": {},
   "source": [
    "## Le temps : pertinent ou non ?\n",
    "La colonne __datetime__ est inutilisable en l'état. Il faut commencer par lui donner l'attribut datetime, et puis opérer des regroupements par mois, semaines, jours puis heure."
   ]
  },
  {
   "cell_type": "code",
   "execution_count": 12,
   "metadata": {},
   "outputs": [],
   "source": [
    "df['datetime'] = pd.to_datetime(df['datetime'])\n",
    "df.index = pd.to_datetime(df['datetime'], unit='s')"
   ]
  },
  {
   "cell_type": "markdown",
   "metadata": {},
   "source": [
    "### Mensuel\n",
    "Echantillonnons, mois par mois."
   ]
  },
  {
   "cell_type": "code",
   "execution_count": 13,
   "metadata": {},
   "outputs": [
    {
     "data": {
      "text/plain": [
       "(24, 2)"
      ]
     },
     "execution_count": 13,
     "metadata": {},
     "output_type": "execute_result"
    }
   ],
   "source": [
    "mdf = pd.DataFrame()\n",
    "mdf['mean_count']=df['count'].resample('M').mean()\n",
    "mdf['med_count']=df['count'].resample('M').median()\n",
    "mdf.shape"
   ]
  },
  {
   "cell_type": "code",
   "execution_count": 14,
   "metadata": {},
   "outputs": [
    {
     "data": {
      "image/png": "[encoded data removed]",
      "text/plain": [
       "<matplotlib.figure.Figure at 0x2440bea6e48>"
      ]
     },
     "metadata": {},
     "output_type": "display_data"
    }
   ],
   "source": [
    "mdf.plot.line(figsize=[10,10])\n",
    "plt.show()"
   ]
  },
  {
   "cell_type": "markdown",
   "metadata": {},
   "source": [
    "Deux observations : l'utilisation est à la hausse, et il semblerait qu'ily ait un cycle : un maximum de vélos sont empruntés autour de Juillet, un minimum autour de Janvier."
   ]
  },
  {
   "cell_type": "markdown",
   "metadata": {},
   "source": [
    "### Hebdomadaire\n",
    "Echantillonnons semaine par semaine."
   ]
  },
  {
   "cell_type": "code",
   "execution_count": 15,
   "metadata": {},
   "outputs": [
    {
     "data": {
      "text/plain": [
       "(104, 2)"
      ]
     },
     "execution_count": 15,
     "metadata": {},
     "output_type": "execute_result"
    }
   ],
   "source": [
    "wdf = pd.DataFrame()\n",
    "wdf['mean_count'] = df['count'].resample('W').mean()\n",
    "wdf['median_count'] = df['count'].resample('W').median()\n",
    "wdf.shape"
   ]
  },
  {
   "cell_type": "code",
   "execution_count": 16,
   "metadata": {},
   "outputs": [
    {
     "data": {
      "image/png": "[encoded data removed]",
      "text/plain": [
       "<matplotlib.figure.Figure at 0x2440be965f8>"
      ]
     },
     "metadata": {},
     "output_type": "display_data"
    }
   ],
   "source": [
    "wdf.plot.line(figsize =[10,10])\n",
    "plt.show()"
   ]
  },
  {
   "cell_type": "markdown",
   "metadata": {},
   "source": [
    "Manifestement, il manque des semaines. Une simple interpolation linéaire suffira pour les besoins de la suite."
   ]
  },
  {
   "cell_type": "code",
   "execution_count": 17,
   "metadata": {
    "scrolled": true
   },
   "outputs": [
    {
     "data": {
      "image/png": "[encoded data removed]",
      "text/plain": [
       "<matplotlib.figure.Figure at 0x2440bfc0860>"
      ]
     },
     "metadata": {},
     "output_type": "display_data"
    }
   ],
   "source": [
    "wdf = wdf.interpolate()\n",
    "wdf.plot.line(figsize =[10,10])\n",
    "plt.show()"
   ]
  },
  {
   "cell_type": "markdown",
   "metadata": {},
   "source": [
    "Le signal est moins lisse, avec des semaines présentant de fortes disparités, notamment en Octobre 2011 et 2012 : une variation de 50% d'une semaine à l'autre. Si la forme globale rappelle la courbe précédente, la semaine ne semble pas être assez pertinente comme fenêtre d'étude. Il faudrait comparer avec l'humidité et le type de climat sur la période. \n",
    "### Au jour le jour\n",
    "La variation par jour sera difficile à interpréter, surtout avec les données manquantes. Cependant, en comparant les lundi entre eux,... peut-être serait-il possible d'observer un phénomène intéressant."
   ]
  },
  {
   "cell_type": "code",
   "execution_count": 18,
   "metadata": {},
   "outputs": [
    {
     "data": {
      "text/html": [
       "<div>\n",
       "<style>\n",
       "    .dataframe thead tr:only-child th {\n",
       "        text-align: right;\n",
       "    }\n",
       "\n",
       "    .dataframe thead th {\n",
       "        text-align: left;\n",
       "    }\n",
       "\n",
       "    .dataframe tbody tr th {\n",
       "        vertical-align: top;\n",
       "    }\n",
       "</style>\n",
       "<table border=\"1\" class=\"dataframe\">\n",
       "  <thead>\n",
       "    <tr style=\"text-align: right;\">\n",
       "      <th></th>\n",
       "      <th>mean_count</th>\n",
       "      <th>median_count</th>\n",
       "      <th>day</th>\n",
       "    </tr>\n",
       "    <tr>\n",
       "      <th>datetime</th>\n",
       "      <th></th>\n",
       "      <th></th>\n",
       "      <th></th>\n",
       "    </tr>\n",
       "  </thead>\n",
       "  <tbody>\n",
       "    <tr>\n",
       "      <th>2011-01-01</th>\n",
       "      <td>41.041667</td>\n",
       "      <td>35.5</td>\n",
       "      <td>5</td>\n",
       "    </tr>\n",
       "    <tr>\n",
       "      <th>2011-01-02</th>\n",
       "      <td>34.826087</td>\n",
       "      <td>22.0</td>\n",
       "      <td>6</td>\n",
       "    </tr>\n",
       "    <tr>\n",
       "      <th>2011-01-03</th>\n",
       "      <td>61.318182</td>\n",
       "      <td>56.5</td>\n",
       "      <td>0</td>\n",
       "    </tr>\n",
       "    <tr>\n",
       "      <th>2011-01-04</th>\n",
       "      <td>67.913043</td>\n",
       "      <td>57.0</td>\n",
       "      <td>1</td>\n",
       "    </tr>\n",
       "    <tr>\n",
       "      <th>2011-01-05</th>\n",
       "      <td>69.565217</td>\n",
       "      <td>62.0</td>\n",
       "      <td>2</td>\n",
       "    </tr>\n",
       "  </tbody>\n",
       "</table>\n",
       "</div>"
      ],
      "text/plain": [
       "            mean_count  median_count  day\n",
       "datetime                                 \n",
       "2011-01-01   41.041667          35.5    5\n",
       "2011-01-02   34.826087          22.0    6\n",
       "2011-01-03   61.318182          56.5    0\n",
       "2011-01-04   67.913043          57.0    1\n",
       "2011-01-05   69.565217          62.0    2"
      ]
     },
     "execution_count": 18,
     "metadata": {},
     "output_type": "execute_result"
    }
   ],
   "source": [
    "ddf = pd.DataFrame()\n",
    "ddf['mean_count'] = df['count'].resample('D').mean()\n",
    "ddf['median_count'] = df['count'].resample('D').median()\n",
    "ddf['day'] = ddf.index.dayofweek\n",
    "ddf.head()"
   ]
  },
  {
   "cell_type": "code",
   "execution_count": 19,
   "metadata": {},
   "outputs": [
    {
     "data": {
      "image/png": "[encoded data removed]",
      "text/plain": [
       "<matplotlib.figure.Figure at 0x2440be4d630>"
      ]
     },
     "metadata": {},
     "output_type": "display_data"
    }
   ],
   "source": [
    "ddf['median_count'].groupby(ddf['day']).sum().plot(kind='bar',legend=True,figsize=[15,5])\n",
    "plt.show()"
   ]
  },
  {
   "cell_type": "code",
   "execution_count": 20,
   "metadata": {},
   "outputs": [
    {
     "data": {
      "image/png": "[encoded data removed]",
      "text/plain": [
       "<matplotlib.figure.Figure at 0x2440bed80b8>"
      ]
     },
     "metadata": {},
     "output_type": "display_data"
    }
   ],
   "source": [
    "ddf['median_count'].groupby(ddf['day']).median().plot(kind='bar',legend=True,figsize=[15,5])\n",
    "plt.show()"
   ]
  },
  {
   "cell_type": "markdown",
   "metadata": {},
   "source": [
    "Le jour de la semaine semble avoir une incidence non négligeable : plus de cinq pour cent de variation de la médiane de la variable cible.\n",
    "\n",
    "### Et l'heure ?\n",
    "\n",
    "Vérifions là aussi si le découpage heure par heure apporte une information."
   ]
  },
  {
   "cell_type": "code",
   "execution_count": 21,
   "metadata": {},
   "outputs": [
    {
     "data": {
      "text/html": [
       "<div>\n",
       "<style>\n",
       "    .dataframe thead tr:only-child th {\n",
       "        text-align: right;\n",
       "    }\n",
       "\n",
       "    .dataframe thead th {\n",
       "        text-align: left;\n",
       "    }\n",
       "\n",
       "    .dataframe tbody tr th {\n",
       "        vertical-align: top;\n",
       "    }\n",
       "</style>\n",
       "<table border=\"1\" class=\"dataframe\">\n",
       "  <thead>\n",
       "    <tr style=\"text-align: right;\">\n",
       "      <th></th>\n",
       "      <th>mean_count</th>\n",
       "      <th>median_count</th>\n",
       "      <th>hour</th>\n",
       "    </tr>\n",
       "    <tr>\n",
       "      <th>datetime</th>\n",
       "      <th></th>\n",
       "      <th></th>\n",
       "      <th></th>\n",
       "    </tr>\n",
       "  </thead>\n",
       "  <tbody>\n",
       "    <tr>\n",
       "      <th>2011-01-01 00:00:00</th>\n",
       "      <td>16.0</td>\n",
       "      <td>16.0</td>\n",
       "      <td>0</td>\n",
       "    </tr>\n",
       "    <tr>\n",
       "      <th>2011-01-01 01:00:00</th>\n",
       "      <td>40.0</td>\n",
       "      <td>40.0</td>\n",
       "      <td>1</td>\n",
       "    </tr>\n",
       "    <tr>\n",
       "      <th>2011-01-01 02:00:00</th>\n",
       "      <td>32.0</td>\n",
       "      <td>32.0</td>\n",
       "      <td>2</td>\n",
       "    </tr>\n",
       "    <tr>\n",
       "      <th>2011-01-01 03:00:00</th>\n",
       "      <td>13.0</td>\n",
       "      <td>13.0</td>\n",
       "      <td>3</td>\n",
       "    </tr>\n",
       "    <tr>\n",
       "      <th>2011-01-01 04:00:00</th>\n",
       "      <td>1.0</td>\n",
       "      <td>1.0</td>\n",
       "      <td>4</td>\n",
       "    </tr>\n",
       "  </tbody>\n",
       "</table>\n",
       "</div>"
      ],
      "text/plain": [
       "                     mean_count  median_count  hour\n",
       "datetime                                           \n",
       "2011-01-01 00:00:00        16.0          16.0     0\n",
       "2011-01-01 01:00:00        40.0          40.0     1\n",
       "2011-01-01 02:00:00        32.0          32.0     2\n",
       "2011-01-01 03:00:00        13.0          13.0     3\n",
       "2011-01-01 04:00:00         1.0           1.0     4"
      ]
     },
     "execution_count": 21,
     "metadata": {},
     "output_type": "execute_result"
    }
   ],
   "source": [
    "hdf = pd.DataFrame()\n",
    "hdf['mean_count'] = df['count'].resample('H').mean()\n",
    "hdf['median_count'] = df['count'].resample('H').median()\n",
    "hdf['hour'] = hdf.index.hour\n",
    "hdf.head()"
   ]
  },
  {
   "cell_type": "code",
   "execution_count": 22,
   "metadata": {},
   "outputs": [
    {
     "data": {
      "image/png": "[encoded data removed]",
      "text/plain": [
       "<matplotlib.figure.Figure at 0x2440bf40240>"
      ]
     },
     "metadata": {},
     "output_type": "display_data"
    }
   ],
   "source": [
    "hdf['median_count'].groupby(hdf['hour']).median().plot(kind='bar',figsize=[15,10])\n",
    "plt.show()"
   ]
  },
  {
   "cell_type": "markdown",
   "metadata": {},
   "source": [
    "Inutile d'aller plus loin, l'heure apporte une quantité d'information très importante.\n",
    "### Le temps d'une conclusion\n",
    "Les facteurs temporels sont à intégrer par ordre d'importance : _heure, mois et jour de la semaine_."
   ]
  },
  {
   "cell_type": "code",
   "execution_count": 23,
   "metadata": {},
   "outputs": [
    {
     "data": {
      "text/html": [
       "<div>\n",
       "<style>\n",
       "    .dataframe thead tr:only-child th {\n",
       "        text-align: right;\n",
       "    }\n",
       "\n",
       "    .dataframe thead th {\n",
       "        text-align: left;\n",
       "    }\n",
       "\n",
       "    .dataframe tbody tr th {\n",
       "        vertical-align: top;\n",
       "    }\n",
       "</style>\n",
       "<table border=\"1\" class=\"dataframe\">\n",
       "  <thead>\n",
       "    <tr style=\"text-align: right;\">\n",
       "      <th></th>\n",
       "      <th>season</th>\n",
       "      <th>holiday</th>\n",
       "      <th>workingday</th>\n",
       "      <th>weather</th>\n",
       "      <th>temp</th>\n",
       "      <th>atemp</th>\n",
       "      <th>humidity</th>\n",
       "      <th>windspeed</th>\n",
       "      <th>count</th>\n",
       "      <th>mois</th>\n",
       "      <th>jour</th>\n",
       "      <th>heure</th>\n",
       "    </tr>\n",
       "    <tr>\n",
       "      <th>datetime</th>\n",
       "      <th></th>\n",
       "      <th></th>\n",
       "      <th></th>\n",
       "      <th></th>\n",
       "      <th></th>\n",
       "      <th></th>\n",
       "      <th></th>\n",
       "      <th></th>\n",
       "      <th></th>\n",
       "      <th></th>\n",
       "      <th></th>\n",
       "      <th></th>\n",
       "    </tr>\n",
       "  </thead>\n",
       "  <tbody>\n",
       "    <tr>\n",
       "      <th>2011-01-01 00:00:00</th>\n",
       "      <td>1</td>\n",
       "      <td>0</td>\n",
       "      <td>0</td>\n",
       "      <td>1</td>\n",
       "      <td>9.84</td>\n",
       "      <td>14.395</td>\n",
       "      <td>81</td>\n",
       "      <td>0.0</td>\n",
       "      <td>16</td>\n",
       "      <td>1</td>\n",
       "      <td>1</td>\n",
       "      <td>0</td>\n",
       "    </tr>\n",
       "    <tr>\n",
       "      <th>2011-01-01 01:00:00</th>\n",
       "      <td>1</td>\n",
       "      <td>0</td>\n",
       "      <td>0</td>\n",
       "      <td>1</td>\n",
       "      <td>9.02</td>\n",
       "      <td>13.635</td>\n",
       "      <td>80</td>\n",
       "      <td>0.0</td>\n",
       "      <td>40</td>\n",
       "      <td>1</td>\n",
       "      <td>1</td>\n",
       "      <td>1</td>\n",
       "    </tr>\n",
       "    <tr>\n",
       "      <th>2011-01-01 02:00:00</th>\n",
       "      <td>1</td>\n",
       "      <td>0</td>\n",
       "      <td>0</td>\n",
       "      <td>1</td>\n",
       "      <td>9.02</td>\n",
       "      <td>13.635</td>\n",
       "      <td>80</td>\n",
       "      <td>0.0</td>\n",
       "      <td>32</td>\n",
       "      <td>1</td>\n",
       "      <td>1</td>\n",
       "      <td>2</td>\n",
       "    </tr>\n",
       "    <tr>\n",
       "      <th>2011-01-01 03:00:00</th>\n",
       "      <td>1</td>\n",
       "      <td>0</td>\n",
       "      <td>0</td>\n",
       "      <td>1</td>\n",
       "      <td>9.84</td>\n",
       "      <td>14.395</td>\n",
       "      <td>75</td>\n",
       "      <td>0.0</td>\n",
       "      <td>13</td>\n",
       "      <td>1</td>\n",
       "      <td>1</td>\n",
       "      <td>3</td>\n",
       "    </tr>\n",
       "    <tr>\n",
       "      <th>2011-01-01 04:00:00</th>\n",
       "      <td>1</td>\n",
       "      <td>0</td>\n",
       "      <td>0</td>\n",
       "      <td>1</td>\n",
       "      <td>9.84</td>\n",
       "      <td>14.395</td>\n",
       "      <td>75</td>\n",
       "      <td>0.0</td>\n",
       "      <td>1</td>\n",
       "      <td>1</td>\n",
       "      <td>1</td>\n",
       "      <td>4</td>\n",
       "    </tr>\n",
       "  </tbody>\n",
       "</table>\n",
       "</div>"
      ],
      "text/plain": [
       "                    season holiday workingday weather  temp   atemp  humidity  \\\n",
       "datetime                                                                        \n",
       "2011-01-01 00:00:00      1       0          0       1  9.84  14.395        81   \n",
       "2011-01-01 01:00:00      1       0          0       1  9.02  13.635        80   \n",
       "2011-01-01 02:00:00      1       0          0       1  9.02  13.635        80   \n",
       "2011-01-01 03:00:00      1       0          0       1  9.84  14.395        75   \n",
       "2011-01-01 04:00:00      1       0          0       1  9.84  14.395        75   \n",
       "\n",
       "                     windspeed  count  mois  jour  heure  \n",
       "datetime                                                  \n",
       "2011-01-01 00:00:00        0.0     16     1     1      0  \n",
       "2011-01-01 01:00:00        0.0     40     1     1      1  \n",
       "2011-01-01 02:00:00        0.0     32     1     1      2  \n",
       "2011-01-01 03:00:00        0.0     13     1     1      3  \n",
       "2011-01-01 04:00:00        0.0      1     1     1      4  "
      ]
     },
     "execution_count": 23,
     "metadata": {},
     "output_type": "execute_result"
    }
   ],
   "source": [
    "hdf = []\n",
    "wdf = []\n",
    "mdf =[]\n",
    "df['mois'] = df.index.month\n",
    "df['jour'] = df.index.day\n",
    "df['heure'] = df.index.hour\n",
    "df = df.drop(['datetime'],axis=1)\n",
    "df.head()"
   ]
  },
  {
   "cell_type": "markdown",
   "metadata": {},
   "source": [
    "## Impact des donnée catégorielles\n",
    "### season\n",
    "A priori, la saison étant liée au mois en cours, cette donnée pourrait faire doublon."
   ]
  },
  {
   "cell_type": "code",
   "execution_count": 24,
   "metadata": {},
   "outputs": [
    {
     "data": {
      "image/png": "[encoded data removed]",
      "text/plain": [
       "<matplotlib.figure.Figure at 0x2440beb4b38>"
      ]
     },
     "metadata": {},
     "output_type": "display_data"
    }
   ],
   "source": [
    "df['count'].groupby(df['season']).median().plot(kind='bar',figsize=[5,5])\n",
    "plt.show()"
   ]
  },
  {
   "cell_type": "markdown",
   "metadata": {},
   "source": [
    "Effectivement, cette donnée n'apporte pas grand chose de plus par rapport à __mois__.\n"
   ]
  },
  {
   "cell_type": "code",
   "execution_count": 25,
   "metadata": {},
   "outputs": [
    {
     "data": {
      "text/html": [
       "<div>\n",
       "<style>\n",
       "    .dataframe thead tr:only-child th {\n",
       "        text-align: right;\n",
       "    }\n",
       "\n",
       "    .dataframe thead th {\n",
       "        text-align: left;\n",
       "    }\n",
       "\n",
       "    .dataframe tbody tr th {\n",
       "        vertical-align: top;\n",
       "    }\n",
       "</style>\n",
       "<table border=\"1\" class=\"dataframe\">\n",
       "  <thead>\n",
       "    <tr style=\"text-align: right;\">\n",
       "      <th></th>\n",
       "      <th>holiday</th>\n",
       "      <th>workingday</th>\n",
       "      <th>weather</th>\n",
       "      <th>temp</th>\n",
       "      <th>atemp</th>\n",
       "      <th>humidity</th>\n",
       "      <th>windspeed</th>\n",
       "      <th>count</th>\n",
       "      <th>mois</th>\n",
       "      <th>jour</th>\n",
       "      <th>heure</th>\n",
       "    </tr>\n",
       "    <tr>\n",
       "      <th>datetime</th>\n",
       "      <th></th>\n",
       "      <th></th>\n",
       "      <th></th>\n",
       "      <th></th>\n",
       "      <th></th>\n",
       "      <th></th>\n",
       "      <th></th>\n",
       "      <th></th>\n",
       "      <th></th>\n",
       "      <th></th>\n",
       "      <th></th>\n",
       "    </tr>\n",
       "  </thead>\n",
       "  <tbody>\n",
       "    <tr>\n",
       "      <th>2011-01-01 00:00:00</th>\n",
       "      <td>0</td>\n",
       "      <td>0</td>\n",
       "      <td>1</td>\n",
       "      <td>9.84</td>\n",
       "      <td>14.395</td>\n",
       "      <td>81</td>\n",
       "      <td>0.0</td>\n",
       "      <td>16</td>\n",
       "      <td>1</td>\n",
       "      <td>1</td>\n",
       "      <td>0</td>\n",
       "    </tr>\n",
       "    <tr>\n",
       "      <th>2011-01-01 01:00:00</th>\n",
       "      <td>0</td>\n",
       "      <td>0</td>\n",
       "      <td>1</td>\n",
       "      <td>9.02</td>\n",
       "      <td>13.635</td>\n",
       "      <td>80</td>\n",
       "      <td>0.0</td>\n",
       "      <td>40</td>\n",
       "      <td>1</td>\n",
       "      <td>1</td>\n",
       "      <td>1</td>\n",
       "    </tr>\n",
       "    <tr>\n",
       "      <th>2011-01-01 02:00:00</th>\n",
       "      <td>0</td>\n",
       "      <td>0</td>\n",
       "      <td>1</td>\n",
       "      <td>9.02</td>\n",
       "      <td>13.635</td>\n",
       "      <td>80</td>\n",
       "      <td>0.0</td>\n",
       "      <td>32</td>\n",
       "      <td>1</td>\n",
       "      <td>1</td>\n",
       "      <td>2</td>\n",
       "    </tr>\n",
       "    <tr>\n",
       "      <th>2011-01-01 03:00:00</th>\n",
       "      <td>0</td>\n",
       "      <td>0</td>\n",
       "      <td>1</td>\n",
       "      <td>9.84</td>\n",
       "      <td>14.395</td>\n",
       "      <td>75</td>\n",
       "      <td>0.0</td>\n",
       "      <td>13</td>\n",
       "      <td>1</td>\n",
       "      <td>1</td>\n",
       "      <td>3</td>\n",
       "    </tr>\n",
       "    <tr>\n",
       "      <th>2011-01-01 04:00:00</th>\n",
       "      <td>0</td>\n",
       "      <td>0</td>\n",
       "      <td>1</td>\n",
       "      <td>9.84</td>\n",
       "      <td>14.395</td>\n",
       "      <td>75</td>\n",
       "      <td>0.0</td>\n",
       "      <td>1</td>\n",
       "      <td>1</td>\n",
       "      <td>1</td>\n",
       "      <td>4</td>\n",
       "    </tr>\n",
       "  </tbody>\n",
       "</table>\n",
       "</div>"
      ],
      "text/plain": [
       "                    holiday workingday weather  temp   atemp  humidity  \\\n",
       "datetime                                                                 \n",
       "2011-01-01 00:00:00       0          0       1  9.84  14.395        81   \n",
       "2011-01-01 01:00:00       0          0       1  9.02  13.635        80   \n",
       "2011-01-01 02:00:00       0          0       1  9.02  13.635        80   \n",
       "2011-01-01 03:00:00       0          0       1  9.84  14.395        75   \n",
       "2011-01-01 04:00:00       0          0       1  9.84  14.395        75   \n",
       "\n",
       "                     windspeed  count  mois  jour  heure  \n",
       "datetime                                                  \n",
       "2011-01-01 00:00:00        0.0     16     1     1      0  \n",
       "2011-01-01 01:00:00        0.0     40     1     1      1  \n",
       "2011-01-01 02:00:00        0.0     32     1     1      2  \n",
       "2011-01-01 03:00:00        0.0     13     1     1      3  \n",
       "2011-01-01 04:00:00        0.0      1     1     1      4  "
      ]
     },
     "execution_count": 25,
     "metadata": {},
     "output_type": "execute_result"
    }
   ],
   "source": [
    "df = df.drop(['season'],axis=1)\n",
    "df.head()"
   ]
  },
  {
   "cell_type": "markdown",
   "metadata": {},
   "source": [
    "### holiday\n"
   ]
  },
  {
   "cell_type": "code",
   "execution_count": 26,
   "metadata": {},
   "outputs": [
    {
     "data": {
      "image/png": "[encoded data removed]",
      "text/plain": [
       "<matplotlib.figure.Figure at 0x2440bc06240>"
      ]
     },
     "metadata": {},
     "output_type": "display_data"
    }
   ],
   "source": [
    "df['count'].groupby(df['holiday']).max().plot(kind='bar',figsize=[5,5])\n",
    "plt.show()"
   ]
  },
  {
   "cell_type": "markdown",
   "metadata": {},
   "source": [
    "Effectivement, il y a une incidence : les vélos semblent être plus loués en jours non-fériés.\n",
    "### workingday"
   ]
  },
  {
   "cell_type": "code",
   "execution_count": 27,
   "metadata": {},
   "outputs": [
    {
     "data": {
      "image/png": "[encoded data removed]",
      "text/plain": [
       "<matplotlib.figure.Figure at 0x2440c6335c0>"
      ]
     },
     "metadata": {},
     "output_type": "display_data"
    }
   ],
   "source": [
    "df['count'].groupby(df['workingday']).max().plot(kind='bar',figsize=[5,5])\n",
    "plt.show()"
   ]
  },
  {
   "cell_type": "markdown",
   "metadata": {},
   "source": [
    "De même, les jours travaillés semblent liés à une plus grande utilisation des vélos.\n",
    "### weather"
   ]
  },
  {
   "cell_type": "code",
   "execution_count": 28,
   "metadata": {},
   "outputs": [
    {
     "data": {
      "image/png": "[encoded data removed]",
      "text/plain": [
       "<matplotlib.figure.Figure at 0x2440c64f4e0>"
      ]
     },
     "metadata": {},
     "output_type": "display_data"
    }
   ],
   "source": [
    "df['count'].groupby(df['weather']).max().plot(kind='bar',figsize=[5,5])\n",
    "plt.show()"
   ]
  },
  {
   "cell_type": "markdown",
   "metadata": {},
   "source": [
    "Faute de dictionnaire de données, il est difficile de savoir à quoi rattacher les catégories, mais il y a manifestement un impact sur l'utilisation des vélos. Observer le lien de ces catégories avec l'humidité pourrait aider."
   ]
  },
  {
   "cell_type": "code",
   "execution_count": 29,
   "metadata": {},
   "outputs": [
    {
     "data": {
      "image/png": "[encoded data removed]",
      "text/plain": [
       "<matplotlib.figure.Figure at 0x2440c9b6eb8>"
      ]
     },
     "metadata": {},
     "output_type": "display_data"
    }
   ],
   "source": [
    "df['humidity'].groupby(df['weather']).mean().plot(kind='bar',figsize=[5,5])\n",
    "plt.show()"
   ]
  },
  {
   "cell_type": "markdown",
   "metadata": {},
   "source": [
    "Les conditions météorologiques influent sur la location de vélos, et la gradation semblerait aller de 1 pour beau temps à 4 très mauvais temps.\n",
    "## Impact des données continues\n",
    "### Les températures\n",
    "A l'oeil, elles semblent très fortement corrélées. Observons leur différence, et tentons une régression entre __temp__ et __atemp__."
   ]
  },
  {
   "cell_type": "code",
   "execution_count": 30,
   "metadata": {},
   "outputs": [
    {
     "data": {
      "text/plain": [
       "count    10886.000000\n",
       "mean         3.424224\n",
       "std          1.566612\n",
       "min        -23.140000\n",
       "25%          2.745000\n",
       "50%          3.680000\n",
       "75%          4.055000\n",
       "max          8.045000\n",
       "dtype: float64"
      ]
     },
     "execution_count": 30,
     "metadata": {},
     "output_type": "execute_result"
    }
   ],
   "source": [
    "(df['atemp']-df['temp']).describe()"
   ]
  },
  {
   "cell_type": "code",
   "execution_count": 31,
   "metadata": {
    "scrolled": true
   },
   "outputs": [
    {
     "data": {
      "text/plain": [
       "LinregressResult(slope=1.0712886639668917, intercept=1.9819932654939052, rvalue=0.98494811048170716, pvalue=0.0, stderr=0.0018020588989187971)"
      ]
     },
     "execution_count": 31,
     "metadata": {},
     "output_type": "execute_result"
    }
   ],
   "source": [
    "from scipy.stats import linregress\n",
    "linregress(df['temp'],df['atemp'])"
   ]
  },
  {
   "cell_type": "markdown",
   "metadata": {},
   "source": [
    "Avec une rvalue supérieure à 98% et une pente de 1, il faudra écarter la variable __atemp__."
   ]
  },
  {
   "cell_type": "code",
   "execution_count": 32,
   "metadata": {},
   "outputs": [
    {
     "data": {
      "text/html": [
       "<div>\n",
       "<style>\n",
       "    .dataframe thead tr:only-child th {\n",
       "        text-align: right;\n",
       "    }\n",
       "\n",
       "    .dataframe thead th {\n",
       "        text-align: left;\n",
       "    }\n",
       "\n",
       "    .dataframe tbody tr th {\n",
       "        vertical-align: top;\n",
       "    }\n",
       "</style>\n",
       "<table border=\"1\" class=\"dataframe\">\n",
       "  <thead>\n",
       "    <tr style=\"text-align: right;\">\n",
       "      <th></th>\n",
       "      <th>holiday</th>\n",
       "      <th>workingday</th>\n",
       "      <th>weather</th>\n",
       "      <th>temp</th>\n",
       "      <th>humidity</th>\n",
       "      <th>windspeed</th>\n",
       "      <th>count</th>\n",
       "      <th>mois</th>\n",
       "      <th>jour</th>\n",
       "      <th>heure</th>\n",
       "    </tr>\n",
       "    <tr>\n",
       "      <th>datetime</th>\n",
       "      <th></th>\n",
       "      <th></th>\n",
       "      <th></th>\n",
       "      <th></th>\n",
       "      <th></th>\n",
       "      <th></th>\n",
       "      <th></th>\n",
       "      <th></th>\n",
       "      <th></th>\n",
       "      <th></th>\n",
       "    </tr>\n",
       "  </thead>\n",
       "  <tbody>\n",
       "    <tr>\n",
       "      <th>2011-01-01 00:00:00</th>\n",
       "      <td>0</td>\n",
       "      <td>0</td>\n",
       "      <td>1</td>\n",
       "      <td>9.84</td>\n",
       "      <td>81</td>\n",
       "      <td>0.0</td>\n",
       "      <td>16</td>\n",
       "      <td>1</td>\n",
       "      <td>1</td>\n",
       "      <td>0</td>\n",
       "    </tr>\n",
       "    <tr>\n",
       "      <th>2011-01-01 01:00:00</th>\n",
       "      <td>0</td>\n",
       "      <td>0</td>\n",
       "      <td>1</td>\n",
       "      <td>9.02</td>\n",
       "      <td>80</td>\n",
       "      <td>0.0</td>\n",
       "      <td>40</td>\n",
       "      <td>1</td>\n",
       "      <td>1</td>\n",
       "      <td>1</td>\n",
       "    </tr>\n",
       "    <tr>\n",
       "      <th>2011-01-01 02:00:00</th>\n",
       "      <td>0</td>\n",
       "      <td>0</td>\n",
       "      <td>1</td>\n",
       "      <td>9.02</td>\n",
       "      <td>80</td>\n",
       "      <td>0.0</td>\n",
       "      <td>32</td>\n",
       "      <td>1</td>\n",
       "      <td>1</td>\n",
       "      <td>2</td>\n",
       "    </tr>\n",
       "    <tr>\n",
       "      <th>2011-01-01 03:00:00</th>\n",
       "      <td>0</td>\n",
       "      <td>0</td>\n",
       "      <td>1</td>\n",
       "      <td>9.84</td>\n",
       "      <td>75</td>\n",
       "      <td>0.0</td>\n",
       "      <td>13</td>\n",
       "      <td>1</td>\n",
       "      <td>1</td>\n",
       "      <td>3</td>\n",
       "    </tr>\n",
       "    <tr>\n",
       "      <th>2011-01-01 04:00:00</th>\n",
       "      <td>0</td>\n",
       "      <td>0</td>\n",
       "      <td>1</td>\n",
       "      <td>9.84</td>\n",
       "      <td>75</td>\n",
       "      <td>0.0</td>\n",
       "      <td>1</td>\n",
       "      <td>1</td>\n",
       "      <td>1</td>\n",
       "      <td>4</td>\n",
       "    </tr>\n",
       "  </tbody>\n",
       "</table>\n",
       "</div>"
      ],
      "text/plain": [
       "                    holiday workingday weather  temp  humidity  windspeed  \\\n",
       "datetime                                                                    \n",
       "2011-01-01 00:00:00       0          0       1  9.84        81        0.0   \n",
       "2011-01-01 01:00:00       0          0       1  9.02        80        0.0   \n",
       "2011-01-01 02:00:00       0          0       1  9.02        80        0.0   \n",
       "2011-01-01 03:00:00       0          0       1  9.84        75        0.0   \n",
       "2011-01-01 04:00:00       0          0       1  9.84        75        0.0   \n",
       "\n",
       "                     count  mois  jour  heure  \n",
       "datetime                                       \n",
       "2011-01-01 00:00:00     16     1     1      0  \n",
       "2011-01-01 01:00:00     40     1     1      1  \n",
       "2011-01-01 02:00:00     32     1     1      2  \n",
       "2011-01-01 03:00:00     13     1     1      3  \n",
       "2011-01-01 04:00:00      1     1     1      4  "
      ]
     },
     "execution_count": 32,
     "metadata": {},
     "output_type": "execute_result"
    }
   ],
   "source": [
    "df = df.drop(['atemp'],axis=1)\n",
    "df.head()"
   ]
  },
  {
   "cell_type": "code",
   "execution_count": 33,
   "metadata": {},
   "outputs": [
    {
     "data": {
      "image/png": "[encoded data removed]",
      "text/plain": [
       "<matplotlib.figure.Figure at 0x2440c9ef3c8>"
      ]
     },
     "metadata": {},
     "output_type": "display_data"
    }
   ],
   "source": [
    "sns.kdeplot(df['temp'],df['count'])\n",
    "plt.show()"
   ]
  },
  {
   "cell_type": "markdown",
   "metadata": {},
   "source": [
    "La température semble avoir une influence sur le nombre de vélos loués.\n",
    "### L'humidité\n"
   ]
  },
  {
   "cell_type": "code",
   "execution_count": 34,
   "metadata": {},
   "outputs": [
    {
     "data": {
      "image/png": "[encoded data removed]",
      "text/plain": [
       "<matplotlib.figure.Figure at 0x2440ca1e358>"
      ]
     },
     "metadata": {},
     "output_type": "display_data"
    }
   ],
   "source": [
    "sns.kdeplot(df['humidity'],df['count'])\n",
    "plt.show()"
   ]
  },
  {
   "cell_type": "markdown",
   "metadata": {},
   "source": [
    "Il y a effectivement un lien entre __humidity__ et __count__.\n",
    "### Vitesse du vent"
   ]
  },
  {
   "cell_type": "code",
   "execution_count": 35,
   "metadata": {},
   "outputs": [
    {
     "data": {
      "image/png": "[encoded data removed]",
      "text/plain": [
       "<matplotlib.figure.Figure at 0x2440c6abb00>"
      ]
     },
     "metadata": {},
     "output_type": "display_data"
    }
   ],
   "source": [
    "sns.kdeplot(df['windspeed'],df['count'])\n",
    "plt.show()"
   ]
  },
  {
   "cell_type": "markdown",
   "metadata": {},
   "source": [
    "La vitesse du vent semble avoir un rôle subtil sur le nombre de vélos loués. Dans le doute, il sera conservé.\n",
    "# Modélisation\n",
    "## Préparation"
   ]
  },
  {
   "cell_type": "code",
   "execution_count": 36,
   "metadata": {},
   "outputs": [
    {
     "data": {
      "text/html": [
       "<div>\n",
       "<style>\n",
       "    .dataframe thead tr:only-child th {\n",
       "        text-align: right;\n",
       "    }\n",
       "\n",
       "    .dataframe thead th {\n",
       "        text-align: left;\n",
       "    }\n",
       "\n",
       "    .dataframe tbody tr th {\n",
       "        vertical-align: top;\n",
       "    }\n",
       "</style>\n",
       "<table border=\"1\" class=\"dataframe\">\n",
       "  <thead>\n",
       "    <tr style=\"text-align: right;\">\n",
       "      <th></th>\n",
       "      <th>mois</th>\n",
       "      <th>jour</th>\n",
       "      <th>heure</th>\n",
       "      <th>holiday</th>\n",
       "      <th>workingday</th>\n",
       "      <th>weather</th>\n",
       "      <th>temp</th>\n",
       "      <th>humidity</th>\n",
       "      <th>windspeed</th>\n",
       "      <th>count</th>\n",
       "    </tr>\n",
       "    <tr>\n",
       "      <th>datetime</th>\n",
       "      <th></th>\n",
       "      <th></th>\n",
       "      <th></th>\n",
       "      <th></th>\n",
       "      <th></th>\n",
       "      <th></th>\n",
       "      <th></th>\n",
       "      <th></th>\n",
       "      <th></th>\n",
       "      <th></th>\n",
       "    </tr>\n",
       "  </thead>\n",
       "  <tbody>\n",
       "    <tr>\n",
       "      <th>2011-01-01 00:00:00</th>\n",
       "      <td>1</td>\n",
       "      <td>1</td>\n",
       "      <td>0</td>\n",
       "      <td>0</td>\n",
       "      <td>0</td>\n",
       "      <td>1</td>\n",
       "      <td>9.84</td>\n",
       "      <td>81</td>\n",
       "      <td>0.0</td>\n",
       "      <td>16</td>\n",
       "    </tr>\n",
       "    <tr>\n",
       "      <th>2011-01-01 01:00:00</th>\n",
       "      <td>1</td>\n",
       "      <td>1</td>\n",
       "      <td>1</td>\n",
       "      <td>0</td>\n",
       "      <td>0</td>\n",
       "      <td>1</td>\n",
       "      <td>9.02</td>\n",
       "      <td>80</td>\n",
       "      <td>0.0</td>\n",
       "      <td>40</td>\n",
       "    </tr>\n",
       "    <tr>\n",
       "      <th>2011-01-01 02:00:00</th>\n",
       "      <td>1</td>\n",
       "      <td>1</td>\n",
       "      <td>2</td>\n",
       "      <td>0</td>\n",
       "      <td>0</td>\n",
       "      <td>1</td>\n",
       "      <td>9.02</td>\n",
       "      <td>80</td>\n",
       "      <td>0.0</td>\n",
       "      <td>32</td>\n",
       "    </tr>\n",
       "    <tr>\n",
       "      <th>2011-01-01 03:00:00</th>\n",
       "      <td>1</td>\n",
       "      <td>1</td>\n",
       "      <td>3</td>\n",
       "      <td>0</td>\n",
       "      <td>0</td>\n",
       "      <td>1</td>\n",
       "      <td>9.84</td>\n",
       "      <td>75</td>\n",
       "      <td>0.0</td>\n",
       "      <td>13</td>\n",
       "    </tr>\n",
       "    <tr>\n",
       "      <th>2011-01-01 04:00:00</th>\n",
       "      <td>1</td>\n",
       "      <td>1</td>\n",
       "      <td>4</td>\n",
       "      <td>0</td>\n",
       "      <td>0</td>\n",
       "      <td>1</td>\n",
       "      <td>9.84</td>\n",
       "      <td>75</td>\n",
       "      <td>0.0</td>\n",
       "      <td>1</td>\n",
       "    </tr>\n",
       "  </tbody>\n",
       "</table>\n",
       "</div>"
      ],
      "text/plain": [
       "                     mois  jour  heure holiday workingday weather  temp  \\\n",
       "datetime                                                                  \n",
       "2011-01-01 00:00:00     1     1      0       0          0       1  9.84   \n",
       "2011-01-01 01:00:00     1     1      1       0          0       1  9.02   \n",
       "2011-01-01 02:00:00     1     1      2       0          0       1  9.02   \n",
       "2011-01-01 03:00:00     1     1      3       0          0       1  9.84   \n",
       "2011-01-01 04:00:00     1     1      4       0          0       1  9.84   \n",
       "\n",
       "                     humidity  windspeed  count  \n",
       "datetime                                         \n",
       "2011-01-01 00:00:00        81        0.0     16  \n",
       "2011-01-01 01:00:00        80        0.0     40  \n",
       "2011-01-01 02:00:00        80        0.0     32  \n",
       "2011-01-01 03:00:00        75        0.0     13  \n",
       "2011-01-01 04:00:00        75        0.0      1  "
      ]
     },
     "execution_count": 36,
     "metadata": {},
     "output_type": "execute_result"
    }
   ],
   "source": [
    "df = df[['mois','jour','heure','holiday','workingday','weather','temp','humidity','windspeed','count']]\n",
    "df.head()"
   ]
  },
  {
   "cell_type": "code",
   "execution_count": 37,
   "metadata": {},
   "outputs": [
    {
     "data": {
      "text/html": [
       "<div>\n",
       "<style>\n",
       "    .dataframe thead tr:only-child th {\n",
       "        text-align: right;\n",
       "    }\n",
       "\n",
       "    .dataframe thead th {\n",
       "        text-align: left;\n",
       "    }\n",
       "\n",
       "    .dataframe tbody tr th {\n",
       "        vertical-align: top;\n",
       "    }\n",
       "</style>\n",
       "<table border=\"1\" class=\"dataframe\">\n",
       "  <thead>\n",
       "    <tr style=\"text-align: right;\">\n",
       "      <th></th>\n",
       "      <th>mois</th>\n",
       "      <th>jour</th>\n",
       "      <th>heure</th>\n",
       "      <th>holiday</th>\n",
       "      <th>workingday</th>\n",
       "      <th>weather</th>\n",
       "      <th>temp</th>\n",
       "      <th>humidity</th>\n",
       "      <th>windspeed</th>\n",
       "      <th>count</th>\n",
       "    </tr>\n",
       "    <tr>\n",
       "      <th>datetime</th>\n",
       "      <th></th>\n",
       "      <th></th>\n",
       "      <th></th>\n",
       "      <th></th>\n",
       "      <th></th>\n",
       "      <th></th>\n",
       "      <th></th>\n",
       "      <th></th>\n",
       "      <th></th>\n",
       "      <th></th>\n",
       "    </tr>\n",
       "  </thead>\n",
       "  <tbody>\n",
       "    <tr>\n",
       "      <th>2011-02-08 17:00:00</th>\n",
       "      <td>2</td>\n",
       "      <td>8</td>\n",
       "      <td>17</td>\n",
       "      <td>0</td>\n",
       "      <td>1</td>\n",
       "      <td>1</td>\n",
       "      <td>9.02</td>\n",
       "      <td>32</td>\n",
       "      <td>39.0007</td>\n",
       "      <td>176</td>\n",
       "    </tr>\n",
       "    <tr>\n",
       "      <th>2011-09-18 23:00:00</th>\n",
       "      <td>9</td>\n",
       "      <td>18</td>\n",
       "      <td>23</td>\n",
       "      <td>0</td>\n",
       "      <td>0</td>\n",
       "      <td>1</td>\n",
       "      <td>22.14</td>\n",
       "      <td>68</td>\n",
       "      <td>12.9980</td>\n",
       "      <td>54</td>\n",
       "    </tr>\n",
       "    <tr>\n",
       "      <th>2011-08-19 04:00:00</th>\n",
       "      <td>8</td>\n",
       "      <td>19</td>\n",
       "      <td>4</td>\n",
       "      <td>0</td>\n",
       "      <td>1</td>\n",
       "      <td>1</td>\n",
       "      <td>26.24</td>\n",
       "      <td>83</td>\n",
       "      <td>0.0000</td>\n",
       "      <td>8</td>\n",
       "    </tr>\n",
       "    <tr>\n",
       "      <th>2012-11-06 06:00:00</th>\n",
       "      <td>11</td>\n",
       "      <td>6</td>\n",
       "      <td>6</td>\n",
       "      <td>0</td>\n",
       "      <td>1</td>\n",
       "      <td>1</td>\n",
       "      <td>9.02</td>\n",
       "      <td>69</td>\n",
       "      <td>8.9981</td>\n",
       "      <td>149</td>\n",
       "    </tr>\n",
       "    <tr>\n",
       "      <th>2011-04-05 11:00:00</th>\n",
       "      <td>4</td>\n",
       "      <td>5</td>\n",
       "      <td>11</td>\n",
       "      <td>0</td>\n",
       "      <td>1</td>\n",
       "      <td>3</td>\n",
       "      <td>13.12</td>\n",
       "      <td>81</td>\n",
       "      <td>30.0026</td>\n",
       "      <td>19</td>\n",
       "    </tr>\n",
       "  </tbody>\n",
       "</table>\n",
       "</div>"
      ],
      "text/plain": [
       "                     mois  jour  heure holiday workingday weather   temp  \\\n",
       "datetime                                                                   \n",
       "2011-02-08 17:00:00     2     8     17       0          1       1   9.02   \n",
       "2011-09-18 23:00:00     9    18     23       0          0       1  22.14   \n",
       "2011-08-19 04:00:00     8    19      4       0          1       1  26.24   \n",
       "2012-11-06 06:00:00    11     6      6       0          1       1   9.02   \n",
       "2011-04-05 11:00:00     4     5     11       0          1       3  13.12   \n",
       "\n",
       "                     humidity  windspeed  count  \n",
       "datetime                                         \n",
       "2011-02-08 17:00:00        32    39.0007    176  \n",
       "2011-09-18 23:00:00        68    12.9980     54  \n",
       "2011-08-19 04:00:00        83     0.0000      8  \n",
       "2012-11-06 06:00:00        69     8.9981    149  \n",
       "2011-04-05 11:00:00        81    30.0026     19  "
      ]
     },
     "execution_count": 37,
     "metadata": {},
     "output_type": "execute_result"
    }
   ],
   "source": [
    "from sklearn.model_selection import train_test_split\n",
    "df_train, df_test = train_test_split(df,test_size=0.3,random_state=42)\n",
    "df_train.head()"
   ]
  },
  {
   "cell_type": "markdown",
   "metadata": {},
   "source": [
    "Selon l'habitude, le jeu de données est réparti entre __df_train__ et __df_test__, selon un ratio 0,7 / 0,3.\n",
    "Afin de conserver une trace des modèles :"
   ]
  },
  {
   "cell_type": "code",
   "execution_count": 38,
   "metadata": {},
   "outputs": [],
   "source": [
    "from sklearn.metrics import mean_absolute_error\n",
    "from time import time\n",
    "\n",
    "# Stockage des résultats\n",
    "perf = pd.DataFrame()\n",
    "\n",
    "# Mesure du temps\n",
    "def pTps(t):\n",
    "    print(\"Exécuté en % 4.2f secondes.\" % (t))\n",
    "\n",
    "perf = pd.DataFrame(columns=[\"Classifieur\",\"Temps app\",\"Temps pré\",\n",
    "                             \"Précision a\", \"Précision t\",\"MAE a\",\"MAE t\", \n",
    "                             \"Quant a\", \"Quant t\"])\n",
    "\n",
    "# clf régresseur entraîné\n",
    "# ta temps d'apprentissage\n",
    "# tp temps de prédiction\n",
    "# pa précision apprentissage\n",
    "# pt précision test\n",
    "# ma mae apprentissage\n",
    "# mt mae test\n",
    "# qa cardinal apprentissage\n",
    "# qt cardinal test\n",
    "# Met à jour le df contenant tout ce qui a été fait\n",
    "def perfMaj(clf, ta,tp,pa,pt,ma,mt, qa, qt):\n",
    "    dt = pd.DataFrame(  [[clf, ta,tp,pa,pt,ma,mt,qa,qt]],columns=[\"Classifieur\",\"Temps app\",\"Temps pré\",\n",
    "                             \"Précision a\", \"Précision t\",\"MAE a\",\"MAE t\", \n",
    "                             \"Quant a\", \"Quant t\"])\n",
    "    return pd.concat([perf,dt],ignore_index = True)\n",
    "\n",
    "# clf modèle fitté\n",
    "# da données d'apprentissage\n",
    "# db données de test\n",
    "# y_es estimation\n",
    "# ta durée d'apprentissage\n",
    "def affSc(clf,da,db,y_es,ta):  \n",
    "    tp = time()\n",
    "    pa = clf.score(da.iloc[:,:-1],da.iloc[:,-1])\n",
    "    pt = clf.score(db.iloc[:,:-1],db.iloc[:,-1])   \n",
    "    ma = mean_absolute_error(da.iloc[:,-1],clf.predict(da.iloc[:,:-1]))\n",
    "    mt = mean_absolute_error(db.iloc[:,-1],y_es)\n",
    "    print(\"App Score : \" + str(pa) +\" MAE :\" + str(ma) + \"\\n\" + \"Test Score : \" + str(pt)\n",
    "         +\" MAE :\" + str(ma))\n",
    "    tp = time() - tp\n",
    "    qa = len(da)\n",
    "    qt = len(db)\n",
    "    pTps(tp)\n",
    "    return perfMaj(clf, ta,tp,pa,pt,ma,mt, qa, qt)"
   ]
  },
  {
   "cell_type": "markdown",
   "metadata": {},
   "source": [
    "\n",
    "## Arbre de décision\n",
    "Ce modèle fait partie des plus simples à mettre en place, et surtout, le plus aisé à interpréter."
   ]
  },
  {
   "cell_type": "code",
   "execution_count": 39,
   "metadata": {},
   "outputs": [
    {
     "name": "stdout",
     "output_type": "stream",
     "text": [
      "Exécuté en  0.06 secondes.\n"
     ]
    }
   ],
   "source": [
    "from sklearn.tree import DecisionTreeRegressor\n",
    "ta = time()\n",
    "clf = DecisionTreeRegressor(max_depth=20)\n",
    "clf.fit(df_train.iloc[:,:-1],df_train.iloc[:,-1])\n",
    "y_es = clf.predict(df_test.iloc[:,:-1])\n",
    "pTps(time()-ta)"
   ]
  },
  {
   "cell_type": "code",
   "execution_count": 40,
   "metadata": {},
   "outputs": [
    {
     "name": "stdout",
     "output_type": "stream",
     "text": [
      "App Score : 0.995516422891 MAE :2.63472655179\n",
      "Test Score : 0.725144685924 MAE :2.63472655179\n",
      "Exécuté en  0.02 secondes.\n"
     ]
    }
   ],
   "source": [
    "perf = affSc(clf,df_train,df_test,y_es,ta)"
   ]
  },
  {
   "cell_type": "markdown",
   "metadata": {},
   "source": [
    "Ainsi qu'il est visible, le sur-apprentissage est présent, et difficilement contrôlable. \n",
    "## Régression linéaire\n",
    "Modèle simple, qui pourrait fonctionner, encore que la nature de la distribution de la variable __count__ laisse présager un mauvais score."
   ]
  },
  {
   "cell_type": "code",
   "execution_count": 41,
   "metadata": {},
   "outputs": [
    {
     "name": "stdout",
     "output_type": "stream",
     "text": [
      "Exécuté en  0.01 secondes.\n",
      "App Score : 0.338672618211 MAE :108.962853392\n",
      "Test Score : 0.330260392849 MAE :108.962853392\n",
      "Exécuté en  0.02 secondes.\n"
     ]
    }
   ],
   "source": [
    "from sklearn.linear_model import LinearRegression\n",
    "ta = time()\n",
    "clf = LinearRegression()\n",
    "clf.fit(df_train.iloc[:,:-1],df_train.iloc[:,-1])\n",
    "y_es = clf.predict(df_test.iloc[:,:-1])\n",
    "pTps(time()-ta)\n",
    "perf = affSc(clf,df_train,df_test,y_es,ta)"
   ]
  },
  {
   "cell_type": "markdown",
   "metadata": {},
   "source": [
    "A l'évidence, l'approche linéaire n'est pas efficace dans ce cas. Cela rejoint l'observation faite de la distribution de __count__.\n"
   ]
  },
  {
   "cell_type": "markdown",
   "metadata": {},
   "source": [
    "## RandomForest\n",
    "Plus robuste que l'arbre de décision, cet algorithme a une implémentation simple et élégante."
   ]
  },
  {
   "cell_type": "code",
   "execution_count": 42,
   "metadata": {},
   "outputs": [
    {
     "name": "stdout",
     "output_type": "stream",
     "text": [
      "Exécuté en  4.63 secondes.\n",
      "App Score : 0.979883532882 MAE :16.9038589751\n",
      "Test Score : 0.857276552915 MAE :16.9038589751\n",
      "Exécuté en  0.81 secondes.\n"
     ]
    }
   ],
   "source": [
    "from sklearn.ensemble import RandomForestRegressor\n",
    "ta = time()\n",
    "clf = RandomForestRegressor(n_estimators=200,max_depth=20)\n",
    "clf.fit(df_train.iloc[:,:-1],df_train.iloc[:,-1])\n",
    "y_es = clf.predict(df_test.iloc[:,:-1])\n",
    "pTps(time()-ta)\n",
    "perf = affSc(clf,df_train,df_test,y_es,ta)"
   ]
  },
  {
   "cell_type": "markdown",
   "metadata": {},
   "source": [
    "Ce résultat est supérieur à l'arbre de décision, et il est satisfaisant, avec d'autant plus.\n",
    "# Conclusion\n",
    "A l'issue de ce qui précède, une prédiction de 86% est appréciable, avec une marge d'erreur de 17 vélos. Des différents modèles, celui qu is'en sort le mieux est la Forêt Aléatoire.\n",
    "\n",
    "Maintenant, il faudrait se renseigner avec le loueur de vélos, savoir si c'est bien tenable pour lui."
   ]
  },
  {
   "cell_type": "markdown",
   "metadata": {},
   "source": [
    "# Améliorations possibles \n",
    "* Tester un MLP\n",
    "* Tester un SVR\n",
    "* Jouer davantage avec un RFR\n",
    "* ?"
   ]
  }
 ],
 "metadata": {
  "kernelspec": {
   "display_name": "Python 3",
   "language": "python",
   "name": "python3"
  },
  "language_info": {
   "codemirror_mode": {
    "name": "ipython",
    "version": 3
   },
   "file_extension": ".py",
   "mimetype": "text/x-python",
   "name": "python",
   "nbconvert_exporter": "python",
   "pygments_lexer": "ipython3",
   "version": "3.6.3"
  },
  "toc": {
   "nav_menu": {},
   "number_sections": true,
   "sideBar": true,
   "skip_h1_title": false,
   "toc_cell": true,
   "toc_position": {
    "height": "491px",
    "left": "0px",
    "right": "914.545px",
    "top": "107px",
    "width": "255px"
   },
   "toc_section_display": "block",
   "toc_window_display": true
  }
 },
 "nbformat": 4,
 "nbformat_minor": 2
}
